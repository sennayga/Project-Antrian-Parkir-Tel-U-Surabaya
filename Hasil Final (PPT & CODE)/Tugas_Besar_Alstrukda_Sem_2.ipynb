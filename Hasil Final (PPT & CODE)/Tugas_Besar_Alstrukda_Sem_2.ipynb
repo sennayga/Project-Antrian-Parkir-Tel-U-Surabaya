{
  "nbformat": 4,
  "nbformat_minor": 0,
  "metadata": {
    "colab": {
      "name": "Tugas Besar Alstrukda Sem 2.ipynb",
      "provenance": [],
      "collapsed_sections": []
    },
    "kernelspec": {
      "name": "python3",
      "display_name": "Python 3"
    },
    "language_info": {
      "name": "python"
    }
  },
  "cells": [
    {
      "cell_type": "code",
      "source": [
        "import pandas as pd\n",
        "\n",
        "class ParkirMobil :\n",
        "    no = 0\n",
        "    df = pd.DataFrame(columns = ['  Antrian', '  Plat Mobil', '  Jam Parkir'])\n",
        "    def __init__ (self):\n",
        "        self.Number = ParkirMobil.no\n",
        "        self.no_plat_mobil = 0\n",
        "        self.jam_parkir = 0\n",
        "        \n",
        "    def tambah(self):\n",
        "        for i in range (int(input(\"Jumlah mobil yang akan parkir: \"))):\n",
        "            Plat = int(input(\"Masukkan nomor plat mobil: \"))\n",
        "            Jam = input(\"Masukkan jam mobil parkir: \")\n",
        "            print()\n",
        "            if self.duplicate(Plat) :\n",
        "                print(\"   !!!PERINGATAN!!!\\nPlat mobil sudah parkir\\n\")\n",
        "            else :\n",
        "                ParkirMobil.no += 1\n",
        "                self.no_plat_mobil = Plat\n",
        "                self.jam_parkir = Jam\n",
        "                ParkirMobil.df.loc[ParkirMobil.no] = [ParkirMobil.no,self.no_plat_mobil,self.jam_parkir]\n",
        "                print(ParkirMobil.no, \"Plat mobil ditambahkan\\n\")\n",
        "        print(\"   =) Parkir IT Telkom Surabaya (=\")\n",
        "        print(\"-\"*37)\n",
        "        print(ParkirMobil.df, '\\n')\n",
        "\n",
        "    def duplicate(self, x):\n",
        "        for platMobil in ParkirMobil.df['  Plat Mobil'] :\n",
        "            if platMobil == x :\n",
        "                return True \n",
        "        return False \n",
        "\n",
        "    def keluarkan(self):\n",
        "        print(\"   =) Parkir IT Telkom Surabaya (=\")\n",
        "        print(\"-\"*37)\n",
        "        print(ParkirMobil.df)\n",
        "        print()\n",
        "        mobil = int(input(\"Masukkan nomor antrian mobil yang dikeluarkan: \"))\n",
        "        if mobil == ParkirMobil.df.iloc[:1].index:\n",
        "            ParkirMobil.df.drop([mobil],inplace = True)\n",
        "            print(\"\\nMobil dikeluarkan\\n\")\n",
        "            print(\"   =) Parkir IT Telkom Surabaya (=\")\n",
        "            print(\"-\"*37)\n",
        "            print(ParkirMobil.df,'\\n')\n",
        "        else:\n",
        "            print(\"\\n\\t   !!!PERINGATAN!!! \\nHarus mengeluarkan mobil yang depan dahulu\")\n",
        "\n",
        "\n",
        "    def tampilkan(self):\n",
        "        print(\"   =) Parkir IT Telkom Surabaya (=\")\n",
        "        print(\"-\"*37)\n",
        "        print(ParkirMobil.df,'\\n')\n",
        "\n",
        "Parkir = ParkirMobil()\n",
        "ulang = 0\n",
        "while ulang == 0 :\n",
        "    print(\"_\"*35)\n",
        "    print(\"  PARKIR MOBIL IT TELKOM SURABAYA\\n\")\n",
        "    pilih = int(input(\"Menu:\\n1. Tambah Antrian Mobil\\n2. Keluarkan Mobil\\n3. Tampilkan antrian parkir mobil\\n4. Exit\\nMasukan pilihan: \"))\n",
        "    print()\n",
        "    if pilih == 1 :\n",
        "        Parkir.tambah()\n",
        "    elif pilih == 2 :\n",
        "        Parkir.keluarkan()\n",
        "    elif pilih == 3:\n",
        "        Parkir.tampilkan()\n",
        "    elif pilih == 4:\n",
        "        print(\"Terima Kasih!\")\n",
        "        break\n",
        "    else:\n",
        "        print(\"Pilihan tidak ada dalam list menu!\")\n",
        "        break"
      ],
      "metadata": {
        "id": "EhrRCrAx8Ekr",
        "colab": {
          "base_uri": "https://localhost:8080/"
        },
        "outputId": "1bc038a9-ddfc-4096-9dd9-73dcf93249b6"
      },
      "execution_count": null,
      "outputs": [
        {
          "output_type": "stream",
          "name": "stdout",
          "text": [
            "___________________________________\n",
            "  PARKIR MOBIL IT TELKOM SURABAYA\n",
            "\n",
            "Menu:\n",
            "1. Tambah Antrian Mobil\n",
            "2. Keluarkan Mobil\n",
            "3. Tampilkan antrian parkir mobil\n",
            "4. Exit\n",
            "Masukan pilihan: 5\n",
            "\n",
            "Pilihan tidak ada dalam menu!\n"
          ]
        }
      ]
    },
    {
      "cell_type": "code",
      "source": [
        ""
      ],
      "metadata": {
        "id": "VrlPF6T-fcUt"
      },
      "execution_count": null,
      "outputs": []
    }
  ]
}